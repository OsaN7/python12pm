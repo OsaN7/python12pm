{
 "cells": [
  {
   "cell_type": "code",
   "execution_count": 1,
   "id": "cb1c287e",
   "metadata": {},
   "outputs": [],
   "source": [
    "import numpy as np\n",
    "# data=np.array([1,23,4,45,,67,])\n",
    "# for x in data:\n",
    "#     print(x)\n",
    "# np.zeros(5)\n",
    "# np.ones(4)\n",
    "# np.arrange(1,10,num=2)\n",
    "# np.linspace(1,10,num=2)\n",
    "# np.linspace(1,10,2 endpoint=False)"
   ]
  },
  {
   "cell_type": "code",
   "execution_count": 2,
   "id": "2b7cf4e1",
   "metadata": {},
   "outputs": [],
   "source": [
    "import numpy as np\n",
    "# arr=np.array([1,23,4,5,6,7,99,98,2])\n",
    "# arr.sort()\n",
    "# arr\n",
    "# np.sort(arr)\n",
    "# arr=np.array([1,23,4,5,6,7,99,98,2,'ram'])\n",
    "# arr.sort()\n",
    "# arr\n"
   ]
  },
  {
   "cell_type": "code",
   "execution_count": 2,
   "id": "7b3fff57",
   "metadata": {},
   "outputs": [
    {
     "data": {
      "text/plain": [
       "array([[1, 2, 3],\n",
       "       [4, 5, 6]])"
      ]
     },
     "execution_count": 2,
     "metadata": {},
     "output_type": "execute_result"
    }
   ],
   "source": [
    "import numpy as np\n",
    "a=np.array([1,2,3,4,5,6])\n",
    "a.reshape(2,3)"
   ]
  },
  {
   "cell_type": "code",
   "execution_count": null,
   "id": "0b5cf60e",
   "metadata": {},
   "outputs": [],
   "source": []
  }
 ],
 "metadata": {
  "kernelspec": {
   "display_name": "Python 3 (ipykernel)",
   "language": "python",
   "name": "python3"
  },
  "language_info": {
   "codemirror_mode": {
    "name": "ipython",
    "version": 3
   },
   "file_extension": ".py",
   "mimetype": "text/x-python",
   "name": "python",
   "nbconvert_exporter": "python",
   "pygments_lexer": "ipython3",
   "version": "3.10.9"
  }
 },
 "nbformat": 4,
 "nbformat_minor": 5
}
